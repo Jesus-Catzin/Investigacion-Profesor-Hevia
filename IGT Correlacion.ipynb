{
 "cells": [
  {
   "cell_type": "markdown",
   "metadata": {},
   "source": [
    "# Coeficientes De Relación"
   ]
  },
  {
   "cell_type": "code",
   "execution_count": 1,
   "metadata": {},
   "outputs": [],
   "source": [
    "#Importando Librerias a utilizar\n",
    "import pandas as pd\n",
    "import numpy as np\n",
    "import matplotlib.pyplot as plt\n",
    "from scipy.stats import spearmanr"
   ]
  },
  {
   "cell_type": "code",
   "execution_count": 2,
   "metadata": {},
   "outputs": [],
   "source": [
    "#Leyendo Dataset\n",
    "datos= pd.read_csv(\"data.csv\", index_col=False)"
   ]
  },
  {
   "cell_type": "markdown",
   "metadata": {},
   "source": [
    "En este caso elimino las columnas que no seran necesarias ya que buscando una correlacion entre ciertas variables de forma especifica."
   ]
  },
  {
   "cell_type": "code",
   "execution_count": 3,
   "metadata": {},
   "outputs": [],
   "source": [
    "#Eliminando Columnas No Necesarias\n",
    "datos.drop(columns=['participant','age:1', 'gender:1', 'noticias:1', 'cuarentena_1:1', 'cuarentena_2:1', \n",
    "                    'cuarentena_3:1','proximo:1', 'country', 'TIME_start', 'TIME_end', 'TIME_total',\n",
    "                    'previo:1', 'previo:2', 'previo:3', 'previo:4'],inplace=True)\n",
    "#Eliminando valores faltantes\n",
    "datos.dropna(inplace=True)\n",
    "#datos.astype(int)\n",
    "#Agregando promedio de termino del test IGT en segundos\n",
    "datos[\"igt:meantime\"] = [473.93,709.29,1783.56,1177.78,1273.17,655.02,1295.9,1073.57,1084.94,425.82,\n",
    "                     1032.39,822.43,936.39,1047.82,1667.18,467.68,389.36,1001.06,1842.02,1998.32,\n",
    "                     2127.27,2581.46,1418.62,916.47]\n",
    "#Agregando Valor final con el que terminaron (Dinero)\n",
    "datos[\"igt:earn\"] = [-500,3200,4000,2100,1950,1850,2300,1050,2450,4250,\n",
    "                     1650,1950,2350,1900,650,3200,3100,1450,1800,50,\n",
    "                     3350,2200,1200,1350]\n",
    "#Reseteando Index\n",
    "datos.reset_index(inplace=True, drop=True)\n",
    "#Eliminando ultima columna no necesaria\n",
    "datos.drop(columns=\"igt:1\", inplace=True)\n",
    "#Dividiento el dataframe para evitar convertir cada columna\n",
    "datos2 = datos[[\"igt:meantime\",\"igt:earn\"]]\n",
    "#Conviertiendo a tipo Entero\n",
    "datos = datos[['ndc:1', 'ndc:2', 'ndc:3', 'ndc:4', 'ndc:5', 'ndc:6', 'ndc:7', 'ndc:8',\n",
    "       'ndc:9', 'ndc:10', 'ndc:11', 'ndc:12', 'ndc:13', 'ndc:14', 'ndc:15',\n",
    "       'ndc:16', 'ndc:17', 'ndc:18', 'beck:1', 'beck:2', 'beck:3', 'beck:4',\n",
    "       'beck:5', 'beck:6', 'beck:7', 'beck:8', 'beck:9', 'beck:10', 'beck:11',\n",
    "       'beck:12', 'beck:13', 'beck:14', 'beck:15', 'beck:16', 'beck:17',\n",
    "       'beck:18', 'beck:19', 'beck:20', 'beck:21']].astype(int)\n",
    "#Uniendo resultados otra vez\n",
    "result = pd.concat([datos, datos2], axis=1, join='inner')"
   ]
  },
  {
   "cell_type": "code",
   "execution_count": 4,
   "metadata": {},
   "outputs": [
    {
     "data": {
      "text/html": [
       "<div>\n",
       "<style scoped>\n",
       "    .dataframe tbody tr th:only-of-type {\n",
       "        vertical-align: middle;\n",
       "    }\n",
       "\n",
       "    .dataframe tbody tr th {\n",
       "        vertical-align: top;\n",
       "    }\n",
       "\n",
       "    .dataframe thead th {\n",
       "        text-align: right;\n",
       "    }\n",
       "</style>\n",
       "<table border=\"1\" class=\"dataframe\">\n",
       "  <thead>\n",
       "    <tr style=\"text-align: right;\">\n",
       "      <th></th>\n",
       "      <th>ndc:1</th>\n",
       "      <th>ndc:2</th>\n",
       "      <th>ndc:3</th>\n",
       "      <th>ndc:4</th>\n",
       "      <th>ndc:5</th>\n",
       "      <th>ndc:6</th>\n",
       "      <th>ndc:7</th>\n",
       "      <th>ndc:8</th>\n",
       "      <th>ndc:9</th>\n",
       "      <th>ndc:10</th>\n",
       "      <th>...</th>\n",
       "      <th>beck:14</th>\n",
       "      <th>beck:15</th>\n",
       "      <th>beck:16</th>\n",
       "      <th>beck:17</th>\n",
       "      <th>beck:18</th>\n",
       "      <th>beck:19</th>\n",
       "      <th>beck:20</th>\n",
       "      <th>beck:21</th>\n",
       "      <th>igt:meantime</th>\n",
       "      <th>igt:earn</th>\n",
       "    </tr>\n",
       "  </thead>\n",
       "  <tbody>\n",
       "    <tr>\n",
       "      <th>0</th>\n",
       "      <td>1</td>\n",
       "      <td>1</td>\n",
       "      <td>1</td>\n",
       "      <td>1</td>\n",
       "      <td>1</td>\n",
       "      <td>1</td>\n",
       "      <td>1</td>\n",
       "      <td>1</td>\n",
       "      <td>1</td>\n",
       "      <td>1</td>\n",
       "      <td>...</td>\n",
       "      <td>0</td>\n",
       "      <td>0</td>\n",
       "      <td>0</td>\n",
       "      <td>0</td>\n",
       "      <td>0</td>\n",
       "      <td>0</td>\n",
       "      <td>0</td>\n",
       "      <td>0</td>\n",
       "      <td>473.93</td>\n",
       "      <td>-500</td>\n",
       "    </tr>\n",
       "    <tr>\n",
       "      <th>1</th>\n",
       "      <td>2</td>\n",
       "      <td>4</td>\n",
       "      <td>2</td>\n",
       "      <td>2</td>\n",
       "      <td>2</td>\n",
       "      <td>3</td>\n",
       "      <td>2</td>\n",
       "      <td>2</td>\n",
       "      <td>3</td>\n",
       "      <td>4</td>\n",
       "      <td>...</td>\n",
       "      <td>1</td>\n",
       "      <td>1</td>\n",
       "      <td>1</td>\n",
       "      <td>1</td>\n",
       "      <td>1</td>\n",
       "      <td>1</td>\n",
       "      <td>1</td>\n",
       "      <td>2</td>\n",
       "      <td>709.29</td>\n",
       "      <td>3200</td>\n",
       "    </tr>\n",
       "    <tr>\n",
       "      <th>2</th>\n",
       "      <td>4</td>\n",
       "      <td>4</td>\n",
       "      <td>1</td>\n",
       "      <td>2</td>\n",
       "      <td>2</td>\n",
       "      <td>5</td>\n",
       "      <td>1</td>\n",
       "      <td>2</td>\n",
       "      <td>3</td>\n",
       "      <td>3</td>\n",
       "      <td>...</td>\n",
       "      <td>0</td>\n",
       "      <td>3</td>\n",
       "      <td>0</td>\n",
       "      <td>0</td>\n",
       "      <td>3</td>\n",
       "      <td>0</td>\n",
       "      <td>0</td>\n",
       "      <td>0</td>\n",
       "      <td>1783.56</td>\n",
       "      <td>4000</td>\n",
       "    </tr>\n",
       "    <tr>\n",
       "      <th>3</th>\n",
       "      <td>2</td>\n",
       "      <td>4</td>\n",
       "      <td>4</td>\n",
       "      <td>4</td>\n",
       "      <td>1</td>\n",
       "      <td>2</td>\n",
       "      <td>1</td>\n",
       "      <td>4</td>\n",
       "      <td>5</td>\n",
       "      <td>2</td>\n",
       "      <td>...</td>\n",
       "      <td>0</td>\n",
       "      <td>1</td>\n",
       "      <td>0</td>\n",
       "      <td>1</td>\n",
       "      <td>0</td>\n",
       "      <td>0</td>\n",
       "      <td>0</td>\n",
       "      <td>0</td>\n",
       "      <td>1177.78</td>\n",
       "      <td>2100</td>\n",
       "    </tr>\n",
       "    <tr>\n",
       "      <th>4</th>\n",
       "      <td>4</td>\n",
       "      <td>3</td>\n",
       "      <td>2</td>\n",
       "      <td>1</td>\n",
       "      <td>1</td>\n",
       "      <td>5</td>\n",
       "      <td>1</td>\n",
       "      <td>3</td>\n",
       "      <td>1</td>\n",
       "      <td>4</td>\n",
       "      <td>...</td>\n",
       "      <td>0</td>\n",
       "      <td>0</td>\n",
       "      <td>0</td>\n",
       "      <td>0</td>\n",
       "      <td>1</td>\n",
       "      <td>0</td>\n",
       "      <td>0</td>\n",
       "      <td>1</td>\n",
       "      <td>1273.17</td>\n",
       "      <td>1950</td>\n",
       "    </tr>\n",
       "  </tbody>\n",
       "</table>\n",
       "<p>5 rows × 41 columns</p>\n",
       "</div>"
      ],
      "text/plain": [
       "   ndc:1  ndc:2  ndc:3  ndc:4  ndc:5  ndc:6  ndc:7  ndc:8  ndc:9  ndc:10  ...  \\\n",
       "0      1      1      1      1      1      1      1      1      1       1  ...   \n",
       "1      2      4      2      2      2      3      2      2      3       4  ...   \n",
       "2      4      4      1      2      2      5      1      2      3       3  ...   \n",
       "3      2      4      4      4      1      2      1      4      5       2  ...   \n",
       "4      4      3      2      1      1      5      1      3      1       4  ...   \n",
       "\n",
       "   beck:14  beck:15  beck:16  beck:17  beck:18  beck:19  beck:20  beck:21  \\\n",
       "0        0        0        0        0        0        0        0        0   \n",
       "1        1        1        1        1        1        1        1        2   \n",
       "2        0        3        0        0        3        0        0        0   \n",
       "3        0        1        0        1        0        0        0        0   \n",
       "4        0        0        0        0        1        0        0        1   \n",
       "\n",
       "   igt:meantime  igt:earn  \n",
       "0        473.93      -500  \n",
       "1        709.29      3200  \n",
       "2       1783.56      4000  \n",
       "3       1177.78      2100  \n",
       "4       1273.17      1950  \n",
       "\n",
       "[5 rows x 41 columns]"
      ]
     },
     "execution_count": 4,
     "metadata": {},
     "output_type": "execute_result"
    }
   ],
   "source": [
    "result.head()"
   ]
  },
  {
   "cell_type": "markdown",
   "metadata": {},
   "source": [
    "## Busqueda De Correlación\n",
    "\n",
    "Para que exista un relacion entre dos variables se realizan pruebas de hipotesis asumiento un valor de P-Valor= 0.05 contra el valor P-Valor obtenido de cada una de las variables que pueden tener relacion.\n",
    "\n",
    "Aqui agrego algunos sitios webs y documentos que me sirvieron como una referencia. Si existe algun error, favor de decirme con total libertad.\n",
    "\n",
    "* https://www.scribbr.com/methodology/types-of-variables/\n",
    "* https://statistics.laerd.com/spss-tutorials/spearmans-rank-order-correlation-using-spss-statistics.ph\n",
    "* https://statistics.laerd.com/spss-tutorials/pearsons-product-moment-correlation-using-spss-statistics.php\n",
    "* https://www.statisticshowto.com/ranked-variable/\n",
    "* https://businessjargons.com/spearmans-rank-correlation-coefficient.html\n",
    "* https://medium.com/@outside2SDs/an-overview-of-correlation-measures-between-categorical-and-continuous-variables-4c7f85610365\n",
    "*https://docs.scipy.org/doc/scipy-0.14.0/reference/generated/scipy.stats.spearmanr.html\n",
    "\n",
    "Cabe destacar que en este caso al ser variables de tipo Cualitativas Ordinales el coeficiente de Pearson no puede ser utizado.\n",
    "De la misma forma esta es una forma de buscar las correlaciones, sin embargo cabe destacar que otras mejores aproximaciones podrian haber sido realizar unas pruebas con Chi Square o una anova.\n",
    "Dicho proceso se realizara en pruebas posteriores."
   ]
  },
  {
   "cell_type": "markdown",
   "metadata": {},
   "source": [
    "### Tiempo De Respuesta Vs Respuedas del NDC\n",
    "El tiempo esta medido en segundos."
   ]
  },
  {
   "cell_type": "code",
   "execution_count": 5,
   "metadata": {},
   "outputs": [],
   "source": [
    "def timevsndc(lista, p):\n",
    "    \"\"\"\n",
    "    Esta funcion recibe como parametro el numero de la pregunta de Beck Para evaluar con las preguntas de ndc (que son 18 en total)\n",
    "    Input: String o Entero para seleccionar la pregunta o variable\n",
    "    Output: Retorna una lista con las variables que tienen cierta relacion en base a una significancia estadistica.\n",
    "    Igual Imprime cada una de ellas. \n",
    "    \"\"\"\n",
    "    #Lista Vacia    \n",
    "    var_column = \"igt:meantime\"\n",
    "    #Rango por la cantidad total de preguntas que le pertenecen al NDC\n",
    "    for j in range(1,19): \n",
    "        #Valor que toma por variable\n",
    "        ndc = \"ndc:\"+str(j)\n",
    "        #Coeficiente de Pearson y P-valor entre las variables\n",
    "        r, p_value = spearmanr(result[var_column], result[ndc])\n",
    "        #print(r,p_value)\n",
    "        if p_value <=p:\n",
    "            string = f\"El tiempo promedio con la pregunta #{str(j)} del ndc con un P-valor de: {p_value} y Coeficiente De Relaccion de: {r}\" \n",
    "            lista.append(string)\n",
    "            #lista2.append(r,p_value)\n",
    "    return lista#,lista2"
   ]
  },
  {
   "cell_type": "markdown",
   "metadata": {},
   "source": [
    "### P Valor < 0.05"
   ]
  },
  {
   "cell_type": "code",
   "execution_count": 10,
   "metadata": {},
   "outputs": [
    {
     "name": "stdout",
     "output_type": "stream",
     "text": [
      "[]\n"
     ]
    }
   ],
   "source": [
    "lista=[]\n",
    "lista = timevsndc(lista, p=0.05)\n",
    "print(lista)"
   ]
  },
  {
   "cell_type": "markdown",
   "metadata": {},
   "source": [
    "### P Valor < 0.01"
   ]
  },
  {
   "cell_type": "code",
   "execution_count": 9,
   "metadata": {},
   "outputs": [
    {
     "name": "stdout",
     "output_type": "stream",
     "text": [
      "[]\n"
     ]
    }
   ],
   "source": [
    "lista=[]\n",
    "lista = timevsndc(lista, p=0.01)\n",
    "print(lista)"
   ]
  },
  {
   "cell_type": "markdown",
   "metadata": {},
   "source": [
    "### P Valor < 0.001"
   ]
  },
  {
   "cell_type": "code",
   "execution_count": 11,
   "metadata": {},
   "outputs": [
    {
     "name": "stdout",
     "output_type": "stream",
     "text": [
      "[]\n"
     ]
    }
   ],
   "source": [
    "lista=[]\n",
    "lista = timevsndc(lista, p=0.001)\n",
    "print(lista)"
   ]
  },
  {
   "cell_type": "markdown",
   "metadata": {},
   "source": [
    "### Tiempo De Respuesta Vs Respuedas del BECK\n",
    "El tiempo esta medido en segundos."
   ]
  },
  {
   "cell_type": "code",
   "execution_count": 14,
   "metadata": {},
   "outputs": [],
   "source": [
    "def timevsbeck(lista, p):\n",
    "    \"\"\"\n",
    "    Esta funcion recibe como parametro el numero de la pregunta de Beck Para evaluar con las preguntas de ndc (que son 18 en total)\n",
    "    Input: String o Entero para seleccionar la pregunta o variable\n",
    "    Output: Retorna una lista con las variables que tienen cierta relacion en base a una significancia estadistica.\n",
    "    Igual Imprime cada una de ellas. \n",
    "    \"\"\"\n",
    "    #Lista Vacia    \n",
    "    var_column = \"igt:meantime\"\n",
    "    #Rango por la cantidad total de preguntas que le pertenecen al NDC\n",
    "    for j in range(1,21): \n",
    "        #Valor que toma por variable\n",
    "        ndc = \"beck:\"+str(j)\n",
    "        #Coeficiente de Pearson y P-valor entre las variables\n",
    "        r, p_value = spearmanr(result[var_column], result[ndc])\n",
    "        #print(r,p_value)\n",
    "        if p_value <=p:\n",
    "            string = f\"El tiempo promedio con la pregunta #{str(j)} del ndc con un P-valor de: {p_value} y Coeficiente De Relaccion de: {r}\" \n",
    "            lista.append(string)\n",
    "            #lista2.append(r,p_value)\n",
    "    return lista#,lista2"
   ]
  },
  {
   "cell_type": "markdown",
   "metadata": {},
   "source": [
    "### P Valor < 0.05"
   ]
  },
  {
   "cell_type": "code",
   "execution_count": 16,
   "metadata": {},
   "outputs": [
    {
     "name": "stdout",
     "output_type": "stream",
     "text": [
      "El tiempo promedio con la pregunta #1 del ndc con un P-valor de: 0.03232148859588864 y Coeficiente De Relaccion de: 0.43794581869247995\n",
      "El tiempo promedio con la pregunta #9 del ndc con un P-valor de: 0.036519567387405166 y Coeficiente De Relaccion de: -0.4288614750612719\n"
     ]
    }
   ],
   "source": [
    "lista1=[]\n",
    "lista1 = timevsbeck(lista1,p=0.05)\n",
    "for element in lista1:\n",
    "    print(element)"
   ]
  },
  {
   "cell_type": "markdown",
   "metadata": {},
   "source": [
    "### P Valor < 0.01"
   ]
  },
  {
   "cell_type": "code",
   "execution_count": 17,
   "metadata": {},
   "outputs": [],
   "source": [
    "lista1=[]\n",
    "lista1 = timevsbeck(lista1,p=0.01)\n",
    "for element in lista1:\n",
    "    print(element)"
   ]
  },
  {
   "cell_type": "markdown",
   "metadata": {},
   "source": [
    "### P Valor < 0.001"
   ]
  },
  {
   "cell_type": "code",
   "execution_count": 18,
   "metadata": {},
   "outputs": [],
   "source": [
    "lista1=[]\n",
    "lista1 = timevsbeck(lista1,p=0.01)\n",
    "for element in lista1:\n",
    "    print(element)"
   ]
  },
  {
   "cell_type": "markdown",
   "metadata": {},
   "source": [
    "### Dinero Total Con el que termino el participante Vs Respuedas del NDC\n",
    "Es comparado con la cantidad de dinero total con la que el participante termino al momento de finalizar la prueba del IGT"
   ]
  },
  {
   "cell_type": "code",
   "execution_count": 19,
   "metadata": {},
   "outputs": [],
   "source": [
    "def igtevsndc(lista, p):\n",
    "    \"\"\"\n",
    "    Esta funcion recibe como parametro el numero de la pregunta de Beck Para evaluar con las preguntas de ndc (que son 18 en total)\n",
    "    Input: String o Entero para seleccionar la pregunta o variable\n",
    "    Output: Retorna una lista con las variables que tienen cierta relacion en base a una significancia estadistica.\n",
    "    Igual Imprime cada una de ellas. \n",
    "    \"\"\"\n",
    "    #Lista Vacia    \n",
    "    var_column = \"igt:earn\"\n",
    "    #Rango por la cantidad total de preguntas que le pertenecen al NDC\n",
    "    for j in range(1,19): \n",
    "        #Valor que toma por variable\n",
    "        ndc = \"ndc:\"+str(j)\n",
    "        #Coeficiente de Pearson y P-valor entre las variables\n",
    "        r, p_value = spearmanr(result[var_column], result[ndc])\n",
    "        #print(r,p_value)\n",
    "        if p_value <=p:\n",
    "            string = f\"El tiempo promedio con la pregunta #{str(j)} del ndc con un P-valor de: {p_value} y Coeficiente De Relaccion de: {r}\" \n",
    "            lista.append(string)\n",
    "            #lista2.append(r,p_value)\n",
    "    return lista#,lista2"
   ]
  },
  {
   "cell_type": "markdown",
   "metadata": {},
   "source": [
    "### P Valor < 0.05"
   ]
  },
  {
   "cell_type": "code",
   "execution_count": 20,
   "metadata": {},
   "outputs": [],
   "source": [
    "lista2= []\n",
    "lista2 = igtevsndc(lista2,p=0.05)\n",
    "for element in lista2:\n",
    "    print(element)"
   ]
  },
  {
   "cell_type": "markdown",
   "metadata": {},
   "source": [
    "### P Valor < 0.001"
   ]
  },
  {
   "cell_type": "code",
   "execution_count": 21,
   "metadata": {},
   "outputs": [],
   "source": [
    "lista2= []\n",
    "lista2 = igtevsndc(lista2,p=0.01)\n",
    "for element in lista2:\n",
    "    print(element)"
   ]
  },
  {
   "cell_type": "markdown",
   "metadata": {},
   "source": [
    "### P Valor < 0.001"
   ]
  },
  {
   "cell_type": "code",
   "execution_count": 22,
   "metadata": {},
   "outputs": [],
   "source": [
    "lista2= []\n",
    "lista2 = igtevsndc(lista2,p=0.001)\n",
    "for element in lista2:\n",
    "    print(element)"
   ]
  },
  {
   "cell_type": "markdown",
   "metadata": {},
   "source": [
    "### Dinero Total Con el que termino el participante Vs Respuedas del BECK\n",
    "Es comparado con la cantidad de dinero total con la que el participante termino al momento de finalizar la prueba del IGT"
   ]
  },
  {
   "cell_type": "code",
   "execution_count": 27,
   "metadata": {},
   "outputs": [],
   "source": [
    "def igtevsbeck(lista, p):\n",
    "    \"\"\"\n",
    "    Esta funcion recibe como parametro el numero de la pregunta de Beck Para evaluar con las preguntas de ndc (que son 18 en total)\n",
    "    Input: String o Entero para seleccionar la pregunta o variable\n",
    "    Output: Retorna una lista con las variables que tienen cierta relacion en base a una significancia estadistica.\n",
    "    Igual Imprime cada una de ellas. \n",
    "    \"\"\"\n",
    "    #Lista Vacia    \n",
    "    var_column = \"igt:earn\"\n",
    "    #Rango por la cantidad total de preguntas que le pertenecen al NDC\n",
    "    for j in range(1,21): \n",
    "        #Valor que toma por variable\n",
    "        ndc = \"beck:\"+str(j)\n",
    "        #Coeficiente de Pearson y P-valor entre las variables\n",
    "        r, p_value = spearmanr(result[var_column], result[ndc])\n",
    "        #print(r,p_value)\n",
    "        if p_value <=p:\n",
    "            string = f\"El tiempo promedio con la pregunta #{str(j)} del ndc con un P-valor de: {p_value} y Coeficiente De Relaccion de: {r}\" \n",
    "            lista.append(string)\n",
    "            #lista2.append(r,p_value)\n",
    "    return lista#,lista2"
   ]
  },
  {
   "cell_type": "markdown",
   "metadata": {},
   "source": [
    "### P Valor < 0.05"
   ]
  },
  {
   "cell_type": "code",
   "execution_count": 28,
   "metadata": {},
   "outputs": [],
   "source": [
    "lista3 = []\n",
    "lista3 = igtevsbeck(lista3,p=0.05)\n",
    "for element in lista3:\n",
    "    print(Element)"
   ]
  },
  {
   "cell_type": "markdown",
   "metadata": {},
   "source": [
    "### P Valor < 0.01"
   ]
  },
  {
   "cell_type": "code",
   "execution_count": 29,
   "metadata": {},
   "outputs": [],
   "source": [
    "lista3 = []\n",
    "lista3 = igtevsbeck(lista3,p=0.01)\n",
    "for element in lista3:\n",
    "    print(Element)"
   ]
  },
  {
   "cell_type": "markdown",
   "metadata": {},
   "source": [
    "### P Valor < 0.001"
   ]
  },
  {
   "cell_type": "code",
   "execution_count": 30,
   "metadata": {},
   "outputs": [],
   "source": [
    "lista3 = []\n",
    "lista3 = igtevsbeck(lista3,p=0.001)\n",
    "for element in lista3:\n",
    "    print(Element)"
   ]
  },
  {
   "cell_type": "markdown",
   "metadata": {},
   "source": [
    "## Respuestas\n"
   ]
  },
  {
   "cell_type": "markdown",
   "metadata": {},
   "source": [
    "En este caso al realizar las correlaciones entre cada uno de las preguntas tanto del tiempo promedio de respuesta comparadas con el beck y el ndd, solo dos pasaron bajo una significancia de:\n",
    "* P valor < 0.05 \n",
    "\n",
    "Y ninguna paso bajo una significancia menor.\n",
    "#### Tiempo Promedio vs BECK\n",
    "Estas son las variables que mostraron una unica correlación:\n",
    "* El tiempo promedio con la pregunta #1 del ndc con un P-valor de: 0.03232148859588864 y Coeficiente De Relaccion de: 0.43794581869247995\n",
    "* El tiempo promedio con la pregunta #9 del ndc con un P-valor de: 0.036519567387405166 y Coeficiente De Relaccion de: -0.4288614750612719\n",
    "\n",
    "En este caso, al haber comparado el dinero ganado con las respuestas del beck y del ndc ninguna mostro una existencia de correlación.\n",
    "\n",
    "Debido a esto no ha habido necesidad de crear una tabla de representacion debido a la minima cantidad de variables que han aparecido."
   ]
  },
  {
   "cell_type": "code",
   "execution_count": null,
   "metadata": {},
   "outputs": [],
   "source": []
  }
 ],
 "metadata": {
  "kernelspec": {
   "display_name": "Python 3",
   "language": "python",
   "name": "python3"
  },
  "language_info": {
   "codemirror_mode": {
    "name": "ipython",
    "version": 3
   },
   "file_extension": ".py",
   "mimetype": "text/x-python",
   "name": "python",
   "nbconvert_exporter": "python",
   "pygments_lexer": "ipython3",
   "version": "3.7.3"
  }
 },
 "nbformat": 4,
 "nbformat_minor": 4
}
